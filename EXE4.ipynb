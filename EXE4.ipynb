{
  "nbformat": 4,
  "nbformat_minor": 0,
  "metadata": {
    "colab": {
      "name": "EXE4.ipynb",
      "provenance": [],
      "authorship_tag": "ABX9TyOWbZzKF8FIOeasYUePYO0r",
      "include_colab_link": true
    },
    "kernelspec": {
      "name": "python3",
      "display_name": "Python 3"
    }
  },
  "cells": [
    {
      "cell_type": "markdown",
      "metadata": {
        "id": "view-in-github",
        "colab_type": "text"
      },
      "source": [
        "<a href=\"https://colab.research.google.com/github/shubhamsorap/Mtech-DL-/blob/master/EXE4.ipynb\" target=\"_parent\"><img src=\"https://colab.research.google.com/assets/colab-badge.svg\" alt=\"Open In Colab\"/></a>"
      ]
    },
    {
      "cell_type": "code",
      "metadata": {
        "id": "rKqj1qTUiudl",
        "colab_type": "code",
        "colab": {}
      },
      "source": [
        "import pandas as pd\n",
        "import numpy as np\n",
        "from keras import models\n",
        "from keras.layers import Dense\n",
        "from keras.utils import to_categorical\n",
        "from keras.datasets import cifar100\n",
        "import tensorflow as tf"
      ],
      "execution_count": 1,
      "outputs": []
    },
    {
      "cell_type": "code",
      "metadata": {
        "id": "Lv2yW3wDizoc",
        "colab_type": "code",
        "colab": {
          "base_uri": "https://localhost:8080/",
          "height": 52
        },
        "outputId": "e333e289-950c-4617-9e2b-eeb1dcd37f76"
      },
      "source": [
        "(X_train,y_train),(X_test,y_test) = cifar100.load_data()\n",
        "X_train = X_train.reshape((-1,32*32*3))\n",
        "X_test = X_test.reshape((-1,32*32*3))\n",
        "\n",
        "X_train = X_train.astype('float32')\n",
        "X_test = X_test.astype('float32')\n",
        "\n",
        "X_train=X_train/255.0\n",
        "X_test=X_test/255.0\n",
        "\n",
        "y_train=to_categorical(y_train)\n",
        "y_test=to_categorical(y_test)"
      ],
      "execution_count": 2,
      "outputs": [
        {
          "output_type": "stream",
          "text": [
            "Downloading data from https://www.cs.toronto.edu/~kriz/cifar-100-python.tar.gz\n",
            "169009152/169001437 [==============================] - 6s 0us/step\n"
          ],
          "name": "stdout"
        }
      ]
    },
    {
      "cell_type": "code",
      "metadata": {
        "id": "idubzVq4i20m",
        "colab_type": "code",
        "colab": {
          "base_uri": "https://localhost:8080/",
          "height": 52
        },
        "outputId": "3e599f4d-2b8b-4230-9171-6ac734f0048d"
      },
      "source": [
        "print(X_train.shape,y_train.shape)\n",
        "print(X_test.shape,y_test.shape)"
      ],
      "execution_count": 3,
      "outputs": [
        {
          "output_type": "stream",
          "text": [
            "(50000, 3072) (50000, 100)\n",
            "(10000, 3072) (10000, 100)\n"
          ],
          "name": "stdout"
        }
      ]
    },
    {
      "cell_type": "code",
      "metadata": {
        "id": "qul3922Pi52_",
        "colab_type": "code",
        "colab": {}
      },
      "source": [
        "#build model\n",
        "from keras.models import Sequential\n",
        "\n",
        "initializer=tf.keras.initializers.glorot_normal()\n",
        "\n",
        "model=Sequential()\n",
        "model.add(Dense(100,input_dim=3072,activation='relu',kernel_initializer=initializer,bias_initializer=initializer))\n",
        "model.add(Dense(256,activation='relu'))\n",
        "model.add(Dense(256,activation='relu'))\n",
        "model.add(Dense(124,activation='relu'))\n",
        "model.add(Dense(100,activation='softmax'))"
      ],
      "execution_count": 5,
      "outputs": []
    },
    {
      "cell_type": "code",
      "metadata": {
        "id": "6wwKKBvpi9dV",
        "colab_type": "code",
        "colab": {}
      },
      "source": [
        "#compile model\n",
        "model.compile(loss='categorical_crossentropy',\n",
        "              metrics=['accuracy'],\n",
        "              optimizer='sgd')"
      ],
      "execution_count": 6,
      "outputs": []
    },
    {
      "cell_type": "code",
      "metadata": {
        "id": "H1COjo3ajQch",
        "colab_type": "code",
        "colab": {
          "base_uri": "https://localhost:8080/",
          "height": 334
        },
        "outputId": "b81a2e56-4cff-4ffd-b454-7fd79a0563a0"
      },
      "source": [
        "model.summary()"
      ],
      "execution_count": 7,
      "outputs": [
        {
          "output_type": "stream",
          "text": [
            "Model: \"sequential\"\n",
            "_________________________________________________________________\n",
            "Layer (type)                 Output Shape              Param #   \n",
            "=================================================================\n",
            "dense (Dense)                (None, 100)               307300    \n",
            "_________________________________________________________________\n",
            "dense_1 (Dense)              (None, 256)               25856     \n",
            "_________________________________________________________________\n",
            "dense_2 (Dense)              (None, 256)               65792     \n",
            "_________________________________________________________________\n",
            "dense_3 (Dense)              (None, 124)               31868     \n",
            "_________________________________________________________________\n",
            "dense_4 (Dense)              (None, 100)               12500     \n",
            "=================================================================\n",
            "Total params: 443,316\n",
            "Trainable params: 443,316\n",
            "Non-trainable params: 0\n",
            "_________________________________________________________________\n"
          ],
          "name": "stdout"
        }
      ]
    },
    {
      "cell_type": "code",
      "metadata": {
        "id": "YP9DF8dWjT9l",
        "colab_type": "code",
        "colab": {
          "base_uri": "https://localhost:8080/",
          "height": 721
        },
        "outputId": "c8a9a5e9-ddfe-4f42-ce9b-7abcce55cfbb"
      },
      "source": [
        "es=tf.keras.callbacks.EarlyStopping(patience=3,monitor='val_loss',restore_best_weights=True)\n",
        "history=model.fit(X_train,y_train,epochs=20,validation_split=0.1,callbacks=[es])"
      ],
      "execution_count": 8,
      "outputs": [
        {
          "output_type": "stream",
          "text": [
            "Epoch 1/20\n",
            "1407/1407 [==============================] - 8s 5ms/step - loss: 4.4948 - accuracy: 0.0321 - val_loss: 4.3065 - val_accuracy: 0.0334\n",
            "Epoch 2/20\n",
            "1407/1407 [==============================] - 8s 5ms/step - loss: 4.0794 - accuracy: 0.0736 - val_loss: 4.2321 - val_accuracy: 0.0620\n",
            "Epoch 3/20\n",
            "1407/1407 [==============================] - 7s 5ms/step - loss: 3.8804 - accuracy: 0.1040 - val_loss: 3.9592 - val_accuracy: 0.0886\n",
            "Epoch 4/20\n",
            "1407/1407 [==============================] - 6s 5ms/step - loss: 3.7580 - accuracy: 0.1250 - val_loss: 3.7785 - val_accuracy: 0.1240\n",
            "Epoch 5/20\n",
            "1407/1407 [==============================] - 6s 4ms/step - loss: 3.6619 - accuracy: 0.1435 - val_loss: 3.7890 - val_accuracy: 0.1230\n",
            "Epoch 6/20\n",
            "1407/1407 [==============================] - 6s 4ms/step - loss: 3.5851 - accuracy: 0.1576 - val_loss: 3.7322 - val_accuracy: 0.1360\n",
            "Epoch 7/20\n",
            "1407/1407 [==============================] - 6s 4ms/step - loss: 3.5203 - accuracy: 0.1683 - val_loss: 3.7594 - val_accuracy: 0.1292\n",
            "Epoch 8/20\n",
            "1407/1407 [==============================] - 7s 5ms/step - loss: 3.4587 - accuracy: 0.1779 - val_loss: 3.7476 - val_accuracy: 0.1328\n",
            "Epoch 9/20\n",
            "1407/1407 [==============================] - 7s 5ms/step - loss: 3.4054 - accuracy: 0.1877 - val_loss: 3.5716 - val_accuracy: 0.1582\n",
            "Epoch 10/20\n",
            "1407/1407 [==============================] - 7s 5ms/step - loss: 3.3569 - accuracy: 0.1969 - val_loss: 3.4867 - val_accuracy: 0.1736\n",
            "Epoch 11/20\n",
            "1407/1407 [==============================] - 7s 5ms/step - loss: 3.3068 - accuracy: 0.2066 - val_loss: 3.4784 - val_accuracy: 0.1798\n",
            "Epoch 12/20\n",
            "1407/1407 [==============================] - 6s 4ms/step - loss: 3.2655 - accuracy: 0.2141 - val_loss: 3.5508 - val_accuracy: 0.1614\n",
            "Epoch 13/20\n",
            "1407/1407 [==============================] - 6s 5ms/step - loss: 3.2288 - accuracy: 0.2201 - val_loss: 3.3762 - val_accuracy: 0.1940\n",
            "Epoch 14/20\n",
            "1407/1407 [==============================] - 6s 4ms/step - loss: 3.1941 - accuracy: 0.2279 - val_loss: 3.7047 - val_accuracy: 0.1536\n",
            "Epoch 15/20\n",
            "1407/1407 [==============================] - 6s 4ms/step - loss: 3.1585 - accuracy: 0.2311 - val_loss: 3.5028 - val_accuracy: 0.1764\n",
            "Epoch 16/20\n",
            "1407/1407 [==============================] - 6s 5ms/step - loss: 3.1247 - accuracy: 0.2375 - val_loss: 3.3744 - val_accuracy: 0.1870\n",
            "Epoch 17/20\n",
            "1407/1407 [==============================] - 7s 5ms/step - loss: 3.0954 - accuracy: 0.2438 - val_loss: 3.3121 - val_accuracy: 0.2100\n",
            "Epoch 18/20\n",
            "1407/1407 [==============================] - 6s 4ms/step - loss: 3.0629 - accuracy: 0.2508 - val_loss: 3.3006 - val_accuracy: 0.2084\n",
            "Epoch 19/20\n",
            "1407/1407 [==============================] - 7s 5ms/step - loss: 3.0343 - accuracy: 0.2530 - val_loss: 3.3736 - val_accuracy: 0.1962\n",
            "Epoch 20/20\n",
            "1407/1407 [==============================] - 7s 5ms/step - loss: 3.0072 - accuracy: 0.2610 - val_loss: 3.4702 - val_accuracy: 0.1832\n"
          ],
          "name": "stdout"
        }
      ]
    },
    {
      "cell_type": "code",
      "metadata": {
        "id": "aGEau9VWjqLQ",
        "colab_type": "code",
        "colab": {
          "base_uri": "https://localhost:8080/",
          "height": 545
        },
        "outputId": "3101d621-6288-4d17-fe03-6153b315dcc2"
      },
      "source": [
        "import matplotlib.pyplot as plt\n",
        "acc = history.history['accuracy']\n",
        "val_acc = history.history['val_accuracy']\n",
        "loss = history.history['loss']\n",
        "val_loss = history.history['val_loss']\n",
        "\n",
        "epochs = range(len(acc))\n",
        "\n",
        "plt.plot(epochs, acc, 'bo', label='Training Accuracy')\n",
        "plt.plot(epochs, val_acc, 'b', label='Validation Accuracy')\n",
        "plt.title('Training and validation Accuracy')\n",
        "\n",
        "plt.figure()\n",
        "\n",
        "plt.plot(epochs, loss, 'bo', label='Training Loss')\n",
        "plt.plot(epochs, val_loss, 'b', label='Validation Loss')\n",
        "plt.title('Training and validation Loss')\n",
        "plt.legend()\n",
        "\n",
        "plt.show()"
      ],
      "execution_count": 10,
      "outputs": [
        {
          "output_type": "display_data",
          "data": {
            "image/png": "[encoded data removed]",
            "text/plain": [
              "<Figure size 432x288 with 1 Axes>"
            ]
          },
          "metadata": {
            "tags": [],
            "needs_background": "light"
          }
        },
        {
          "output_type": "display_data",
          "data": {
            "image/png": "[encoded data removed]",
            "text/plain": [
              "<Figure size 432x288 with 1 Axes>"
            ]
          },
          "metadata": {
            "tags": [],
            "needs_background": "light"
          }
        }
      ]
    },
    {
      "cell_type": "markdown",
      "metadata": {
        "id": "D6Wr_z-8j5fb",
        "colab_type": "text"
      },
      "source": [
        "# Base Model for MNIST"
      ]
    },
    {
      "cell_type": "code",
      "metadata": {
        "id": "k_sFZbNbj0zp",
        "colab_type": "code",
        "colab": {}
      },
      "source": [
        "from tensorflow.keras.datasets import mnist"
      ],
      "execution_count": 9,
      "outputs": []
    },
    {
      "cell_type": "code",
      "metadata": {
        "id": "sqK1JUZskBP_",
        "colab_type": "code",
        "colab": {
          "base_uri": "https://localhost:8080/",
          "height": 52
        },
        "outputId": "f2b974e8-6053-4f09-8a76-c7a176071391"
      },
      "source": [
        "(X_train,y_train),(X_test,y_test)=mnist.load_data()\n",
        "\n",
        "X_train=X_train.reshape((-1,28*28))\n",
        "X_test=X_test.reshape((-1,28*28))\n",
        "\n",
        "X_train=X_train.astype('float32')\n",
        "X_test=X_test.astype('float32')\n",
        "\n",
        "X_train=X_train/255.0\n",
        "X_test=X_test/255.0\n",
        "\n",
        "y_train=to_categorical(y_train)\n",
        "y_test=to_categorical(y_test)"
      ],
      "execution_count": 11,
      "outputs": [
        {
          "output_type": "stream",
          "text": [
            "Downloading data from https://storage.googleapis.com/tensorflow/tf-keras-datasets/mnist.npz\n",
            "11493376/11490434 [==============================] - 0s 0us/step\n"
          ],
          "name": "stdout"
        }
      ]
    },
    {
      "cell_type": "code",
      "metadata": {
        "id": "p9SpL896kHLG",
        "colab_type": "code",
        "colab": {
          "base_uri": "https://localhost:8080/",
          "height": 35
        },
        "outputId": "e0262a75-b649-46d0-a45c-cf84db05769b"
      },
      "source": [
        "X_train.shape,y_train.shape"
      ],
      "execution_count": 12,
      "outputs": [
        {
          "output_type": "execute_result",
          "data": {
            "text/plain": [
              "((60000, 784), (60000, 10))"
            ]
          },
          "metadata": {
            "tags": []
          },
          "execution_count": 12
        }
      ]
    },
    {
      "cell_type": "code",
      "metadata": {
        "id": "c7n3mgfHkKPU",
        "colab_type": "code",
        "colab": {
          "base_uri": "https://localhost:8080/",
          "height": 334
        },
        "outputId": "073440c2-02b2-48a5-9ec6-bd2fbb4c7b7f"
      },
      "source": [
        "#build model\n",
        "initializer=tf.keras.initializers.glorot_normal()\n",
        "\n",
        "model=Sequential()\n",
        "model.add(Dense(100,input_dim=784,activation='relu',kernel_initializer=initializer,bias_initializer=initializer))\n",
        "model.add(Dense(256,activation='relu'))\n",
        "model.add(Dense(256,activation='relu'))\n",
        "model.add(Dense(124,activation='relu'))\n",
        "model.add(Dense(10,activation='softmax'))\n",
        "model.summary()"
      ],
      "execution_count": 13,
      "outputs": [
        {
          "output_type": "stream",
          "text": [
            "Model: \"sequential_1\"\n",
            "_________________________________________________________________\n",
            "Layer (type)                 Output Shape              Param #   \n",
            "=================================================================\n",
            "dense_5 (Dense)              (None, 100)               78500     \n",
            "_________________________________________________________________\n",
            "dense_6 (Dense)              (None, 256)               25856     \n",
            "_________________________________________________________________\n",
            "dense_7 (Dense)              (None, 256)               65792     \n",
            "_________________________________________________________________\n",
            "dense_8 (Dense)              (None, 124)               31868     \n",
            "_________________________________________________________________\n",
            "dense_9 (Dense)              (None, 10)                1250      \n",
            "=================================================================\n",
            "Total params: 203,266\n",
            "Trainable params: 203,266\n",
            "Non-trainable params: 0\n",
            "_________________________________________________________________\n"
          ],
          "name": "stdout"
        }
      ]
    },
    {
      "cell_type": "code",
      "metadata": {
        "id": "lOq8mHvlkSXt",
        "colab_type": "code",
        "colab": {}
      },
      "source": [
        "#compile model\n",
        "model.compile(loss='categorical_crossentropy',\n",
        "              metrics=['accuracy'],\n",
        "              optimizer='sgd')"
      ],
      "execution_count": 14,
      "outputs": []
    },
    {
      "cell_type": "code",
      "metadata": {
        "id": "6_mchG0hkU4b",
        "colab_type": "code",
        "colab": {
          "base_uri": "https://localhost:8080/",
          "height": 615
        },
        "outputId": "a54683c6-2f1c-4810-c243-88874789537d"
      },
      "source": [
        "es=tf.keras.callbacks.EarlyStopping(patience=3,monitor='val_loss',restore_best_weights=True)\n",
        "history=model.fit(X_train,y_train,epochs=20,validation_split=0.1,callbacks=[es])"
      ],
      "execution_count": 15,
      "outputs": [
        {
          "output_type": "stream",
          "text": [
            "Epoch 1/20\n",
            "1688/1688 [==============================] - 5s 3ms/step - loss: 0.7685 - accuracy: 0.7852 - val_loss: 0.2644 - val_accuracy: 0.9245\n",
            "Epoch 2/20\n",
            "1688/1688 [==============================] - 5s 3ms/step - loss: 0.2859 - accuracy: 0.9164 - val_loss: 0.2006 - val_accuracy: 0.9410\n",
            "Epoch 3/20\n",
            "1688/1688 [==============================] - 5s 3ms/step - loss: 0.2176 - accuracy: 0.9352 - val_loss: 0.1540 - val_accuracy: 0.9573\n",
            "Epoch 4/20\n",
            "1688/1688 [==============================] - 4s 3ms/step - loss: 0.1759 - accuracy: 0.9480 - val_loss: 0.1531 - val_accuracy: 0.9563\n",
            "Epoch 5/20\n",
            "1688/1688 [==============================] - 5s 3ms/step - loss: 0.1465 - accuracy: 0.9568 - val_loss: 0.1485 - val_accuracy: 0.9557\n",
            "Epoch 6/20\n",
            "1688/1688 [==============================] - 5s 3ms/step - loss: 0.1253 - accuracy: 0.9629 - val_loss: 0.1081 - val_accuracy: 0.9687\n",
            "Epoch 7/20\n",
            "1688/1688 [==============================] - 4s 3ms/step - loss: 0.1093 - accuracy: 0.9684 - val_loss: 0.1001 - val_accuracy: 0.9720\n",
            "Epoch 8/20\n",
            "1688/1688 [==============================] - 5s 3ms/step - loss: 0.0971 - accuracy: 0.9718 - val_loss: 0.0957 - val_accuracy: 0.9705\n",
            "Epoch 9/20\n",
            "1688/1688 [==============================] - 5s 3ms/step - loss: 0.0861 - accuracy: 0.9745 - val_loss: 0.0915 - val_accuracy: 0.9730\n",
            "Epoch 10/20\n",
            "1688/1688 [==============================] - 4s 3ms/step - loss: 0.0775 - accuracy: 0.9771 - val_loss: 0.0890 - val_accuracy: 0.9773\n",
            "Epoch 11/20\n",
            "1688/1688 [==============================] - 5s 3ms/step - loss: 0.0706 - accuracy: 0.9791 - val_loss: 0.0960 - val_accuracy: 0.9728\n",
            "Epoch 12/20\n",
            "1688/1688 [==============================] - 5s 3ms/step - loss: 0.0634 - accuracy: 0.9816 - val_loss: 0.0922 - val_accuracy: 0.9727\n",
            "Epoch 13/20\n",
            "1688/1688 [==============================] - 5s 3ms/step - loss: 0.0584 - accuracy: 0.9827 - val_loss: 0.0809 - val_accuracy: 0.9753\n",
            "Epoch 14/20\n",
            "1688/1688 [==============================] - 4s 3ms/step - loss: 0.0541 - accuracy: 0.9845 - val_loss: 0.0793 - val_accuracy: 0.9775\n",
            "Epoch 15/20\n",
            "1688/1688 [==============================] - 5s 3ms/step - loss: 0.0492 - accuracy: 0.9854 - val_loss: 0.0830 - val_accuracy: 0.9755\n",
            "Epoch 16/20\n",
            "1688/1688 [==============================] - 7s 4ms/step - loss: 0.0453 - accuracy: 0.9869 - val_loss: 0.0800 - val_accuracy: 0.9768\n",
            "Epoch 17/20\n",
            "1688/1688 [==============================] - 6s 3ms/step - loss: 0.0414 - accuracy: 0.9879 - val_loss: 0.1034 - val_accuracy: 0.9710\n"
          ],
          "name": "stdout"
        }
      ]
    },
    {
      "cell_type": "code",
      "metadata": {
        "id": "sJZJ28UAkYd8",
        "colab_type": "code",
        "colab": {
          "base_uri": "https://localhost:8080/",
          "height": 52
        },
        "outputId": "779b4e8a-0a52-46a9-ef42-7df5035f54eb"
      },
      "source": [
        "model.evaluate(X_test,y_test)"
      ],
      "execution_count": 16,
      "outputs": [
        {
          "output_type": "stream",
          "text": [
            "313/313 [==============================] - 0s 1ms/step - loss: 0.0857 - accuracy: 0.9742\n"
          ],
          "name": "stdout"
        },
        {
          "output_type": "execute_result",
          "data": {
            "text/plain": [
              "[0.08573753386735916, 0.9742000102996826]"
            ]
          },
          "metadata": {
            "tags": []
          },
          "execution_count": 16
        }
      ]
    },
    {
      "cell_type": "code",
      "metadata": {
        "id": "I5S8yReykcTW",
        "colab_type": "code",
        "colab": {
          "base_uri": "https://localhost:8080/",
          "height": 545
        },
        "outputId": "50a1277b-0b48-4f2e-8f3e-d223232b1f9c"
      },
      "source": [
        "import matplotlib.pyplot as plt\n",
        "acc = history.history['accuracy']\n",
        "val_acc = history.history['val_accuracy']\n",
        "loss = history.history['loss']\n",
        "val_loss = history.history['val_loss']\n",
        "\n",
        "epochs = range(len(acc))\n",
        "\n",
        "plt.plot(epochs, acc, 'bo', label='Training accuracy')\n",
        "plt.plot(epochs, val_acc, 'b', label='Validation accuracy')\n",
        "plt.title('Training and validation accuracy')\n",
        "\n",
        "plt.figure()\n",
        "\n",
        "plt.plot(epochs, loss, 'bo', label='Training Loss')\n",
        "plt.plot(epochs, val_loss, 'b', label='Validation Loss')\n",
        "plt.title('Training and validation loss')\n",
        "plt.legend()\n",
        "plt.show()"
      ],
      "execution_count": 17,
      "outputs": [
        {
          "output_type": "display_data",
          "data": {
            "image/png": "[encoded data removed]",
            "text/plain": [
              "<Figure size 432x288 with 1 Axes>"
            ]
          },
          "metadata": {
            "tags": [],
            "needs_background": "light"
          }
        },
        {
          "output_type": "display_data",
          "data": {
            "image/png": "[encoded data removed]",
            "text/plain": [
              "<Figure size 432x288 with 1 Axes>"
            ]
          },
          "metadata": {
            "tags": [],
            "needs_background": "light"
          }
        }
      ]
    },
    {
      "cell_type": "markdown",
      "metadata": {
        "id": "9HlhV8tmki0-",
        "colab_type": "text"
      },
      "source": [
        "# Base model for fashion-mnist"
      ]
    },
    {
      "cell_type": "code",
      "metadata": {
        "id": "BXK5NTsXkh9_",
        "colab_type": "code",
        "colab": {}
      },
      "source": [
        "from tensorflow.keras.datasets import fashion_mnist"
      ],
      "execution_count": 18,
      "outputs": []
    },
    {
      "cell_type": "code",
      "metadata": {
        "id": "i0RuWiRhkcoH",
        "colab_type": "code",
        "colab": {}
      },
      "source": [
        "(X_train,y_train),(X_test,y_test)=mnist.load_data()\n",
        "\n",
        "X_train=X_train.reshape((-1,28*28))\n",
        "X_test=X_test.reshape((-1,28*28))\n",
        "\n",
        "X_train=X_train.astype('float32')\n",
        "X_test=X_test.astype('float32')\n",
        "\n",
        "X_train=X_train/255.0\n",
        "X_test=X_test/255.0\n",
        "\n",
        "y_train=to_categorical(y_train)\n",
        "y_test=to_categorical(y_test)"
      ],
      "execution_count": 19,
      "outputs": []
    },
    {
      "cell_type": "code",
      "metadata": {
        "id": "Xnk4_C81kcZi",
        "colab_type": "code",
        "colab": {
          "base_uri": "https://localhost:8080/",
          "height": 334
        },
        "outputId": "21db07b3-0f0e-4a12-e1d7-056b3505d4ce"
      },
      "source": [
        "initializer=tf.keras.initializers.glorot_normal()\n",
        "\n",
        "model=Sequential()\n",
        "model.add(Dense(100,input_dim=784,activation='relu',kernel_initializer=initializer,bias_initializer=initializer))\n",
        "model.add(Dense(256,activation='relu'))\n",
        "model.add(Dense(256,activation='relu'))\n",
        "model.add(Dense(124,activation='relu'))\n",
        "model.add(Dense(10,activation='softmax'))\n",
        "model.summary()"
      ],
      "execution_count": 20,
      "outputs": [
        {
          "output_type": "stream",
          "text": [
            "Model: \"sequential_2\"\n",
            "_________________________________________________________________\n",
            "Layer (type)                 Output Shape              Param #   \n",
            "=================================================================\n",
            "dense_10 (Dense)             (None, 100)               78500     \n",
            "_________________________________________________________________\n",
            "dense_11 (Dense)             (None, 256)               25856     \n",
            "_________________________________________________________________\n",
            "dense_12 (Dense)             (None, 256)               65792     \n",
            "_________________________________________________________________\n",
            "dense_13 (Dense)             (None, 124)               31868     \n",
            "_________________________________________________________________\n",
            "dense_14 (Dense)             (None, 10)                1250      \n",
            "=================================================================\n",
            "Total params: 203,266\n",
            "Trainable params: 203,266\n",
            "Non-trainable params: 0\n",
            "_________________________________________________________________\n"
          ],
          "name": "stdout"
        }
      ]
    },
    {
      "cell_type": "code",
      "metadata": {
        "id": "MiIC7AG5kcE8",
        "colab_type": "code",
        "colab": {}
      },
      "source": [
        "#compile model\n",
        "model.compile(loss='categorical_crossentropy',\n",
        "              metrics=['accuracy'],\n",
        "              optimizer='sgd')"
      ],
      "execution_count": 21,
      "outputs": []
    },
    {
      "cell_type": "code",
      "metadata": {
        "id": "DQiJFQpUk7pH",
        "colab_type": "code",
        "colab": {
          "base_uri": "https://localhost:8080/",
          "height": 721
        },
        "outputId": "1582d853-e577-4718-9dc8-44121ad367b3"
      },
      "source": [
        "es=tf.keras.callbacks.EarlyStopping(patience=3,monitor='val_loss',restore_best_weights=True)\n",
        "history=model.fit(X_train,y_train,epochs=20,validation_split=0.1,callbacks=[es])"
      ],
      "execution_count": 22,
      "outputs": [
        {
          "output_type": "stream",
          "text": [
            "Epoch 1/20\n",
            "1688/1688 [==============================] - 5s 3ms/step - loss: 0.6903 - accuracy: 0.8027 - val_loss: 0.2838 - val_accuracy: 0.9153\n",
            "Epoch 2/20\n",
            "1688/1688 [==============================] - 5s 3ms/step - loss: 0.2743 - accuracy: 0.9188 - val_loss: 0.1847 - val_accuracy: 0.9453\n",
            "Epoch 3/20\n",
            "1688/1688 [==============================] - 5s 3ms/step - loss: 0.2117 - accuracy: 0.9371 - val_loss: 0.1479 - val_accuracy: 0.9587\n",
            "Epoch 4/20\n",
            "1688/1688 [==============================] - 5s 3ms/step - loss: 0.1733 - accuracy: 0.9490 - val_loss: 0.1411 - val_accuracy: 0.9613\n",
            "Epoch 5/20\n",
            "1688/1688 [==============================] - 5s 3ms/step - loss: 0.1486 - accuracy: 0.9563 - val_loss: 0.1170 - val_accuracy: 0.9670\n",
            "Epoch 6/20\n",
            "1688/1688 [==============================] - 5s 3ms/step - loss: 0.1289 - accuracy: 0.9613 - val_loss: 0.1063 - val_accuracy: 0.9692\n",
            "Epoch 7/20\n",
            "1688/1688 [==============================] - 5s 3ms/step - loss: 0.1137 - accuracy: 0.9665 - val_loss: 0.1081 - val_accuracy: 0.9678\n",
            "Epoch 8/20\n",
            "1688/1688 [==============================] - 5s 3ms/step - loss: 0.1017 - accuracy: 0.9699 - val_loss: 0.0943 - val_accuracy: 0.9730\n",
            "Epoch 9/20\n",
            "1688/1688 [==============================] - 4s 3ms/step - loss: 0.0906 - accuracy: 0.9728 - val_loss: 0.0949 - val_accuracy: 0.9710\n",
            "Epoch 10/20\n",
            "1688/1688 [==============================] - 5s 3ms/step - loss: 0.0817 - accuracy: 0.9753 - val_loss: 0.0889 - val_accuracy: 0.9735\n",
            "Epoch 11/20\n",
            "1688/1688 [==============================] - 4s 3ms/step - loss: 0.0742 - accuracy: 0.9771 - val_loss: 0.0956 - val_accuracy: 0.9720\n",
            "Epoch 12/20\n",
            "1688/1688 [==============================] - 5s 3ms/step - loss: 0.0681 - accuracy: 0.9793 - val_loss: 0.0948 - val_accuracy: 0.9725\n",
            "Epoch 13/20\n",
            "1688/1688 [==============================] - 4s 3ms/step - loss: 0.0624 - accuracy: 0.9814 - val_loss: 0.0850 - val_accuracy: 0.9755\n",
            "Epoch 14/20\n",
            "1688/1688 [==============================] - 5s 3ms/step - loss: 0.0565 - accuracy: 0.9832 - val_loss: 0.0849 - val_accuracy: 0.9745\n",
            "Epoch 15/20\n",
            "1688/1688 [==============================] - 5s 3ms/step - loss: 0.0521 - accuracy: 0.9846 - val_loss: 0.0834 - val_accuracy: 0.9772\n",
            "Epoch 16/20\n",
            "1688/1688 [==============================] - 4s 3ms/step - loss: 0.0470 - accuracy: 0.9860 - val_loss: 0.0826 - val_accuracy: 0.9773\n",
            "Epoch 17/20\n",
            "1688/1688 [==============================] - 4s 3ms/step - loss: 0.0427 - accuracy: 0.9873 - val_loss: 0.0876 - val_accuracy: 0.9757\n",
            "Epoch 18/20\n",
            "1688/1688 [==============================] - 5s 3ms/step - loss: 0.0388 - accuracy: 0.9884 - val_loss: 0.0780 - val_accuracy: 0.9793\n",
            "Epoch 19/20\n",
            "1688/1688 [==============================] - 4s 3ms/step - loss: 0.0353 - accuracy: 0.9895 - val_loss: 0.0908 - val_accuracy: 0.9725\n",
            "Epoch 20/20\n",
            "1688/1688 [==============================] - 4s 3ms/step - loss: 0.0325 - accuracy: 0.9905 - val_loss: 0.0860 - val_accuracy: 0.9780\n"
          ],
          "name": "stdout"
        }
      ]
    },
    {
      "cell_type": "code",
      "metadata": {
        "id": "YZU2ZhFwlAUg",
        "colab_type": "code",
        "colab": {
          "base_uri": "https://localhost:8080/",
          "height": 52
        },
        "outputId": "6c4bdc8d-4034-41c9-f22e-cbe031636c75"
      },
      "source": [
        "model.evaluate(X_test,y_test)"
      ],
      "execution_count": 23,
      "outputs": [
        {
          "output_type": "stream",
          "text": [
            "313/313 [==============================] - 0s 1ms/step - loss: 0.0885 - accuracy: 0.9723\n"
          ],
          "name": "stdout"
        },
        {
          "output_type": "execute_result",
          "data": {
            "text/plain": [
              "[0.08849460631608963, 0.9722999930381775]"
            ]
          },
          "metadata": {
            "tags": []
          },
          "execution_count": 23
        }
      ]
    },
    {
      "cell_type": "code",
      "metadata": {
        "id": "2Yjo9bnllNDw",
        "colab_type": "code",
        "colab": {
          "base_uri": "https://localhost:8080/",
          "height": 545
        },
        "outputId": "25744cb9-1e04-4450-90bf-8793b925a2b5"
      },
      "source": [
        "import matplotlib.pyplot as plt\n",
        "acc = history.history['accuracy']\n",
        "val_acc = history.history['val_accuracy']\n",
        "loss = history.history['loss']\n",
        "val_loss = history.history['val_loss']\n",
        "\n",
        "epochs = range(len(acc))\n",
        "\n",
        "plt.plot(epochs, acc, 'bo', label='Training accuracy')\n",
        "plt.plot(epochs, val_acc, 'b', label='Validation accuracy')\n",
        "plt.title('Training and validation accuracy')\n",
        "\n",
        "plt.figure()\n",
        "\n",
        "plt.plot(epochs, loss, 'bo', label='Training Loss')\n",
        "plt.plot(epochs, val_loss, 'b', label='Validation Loss')\n",
        "plt.title('Training and validation loss')\n",
        "plt.legend()\n",
        "\n",
        "plt.show()"
      ],
      "execution_count": 24,
      "outputs": [
        {
          "output_type": "display_data",
          "data": {
            "image/png": "[encoded data removed]",
            "text/plain": [
              "<Figure size 432x288 with 1 Axes>"
            ]
          },
          "metadata": {
            "tags": [],
            "needs_background": "light"
          }
        },
        {
          "output_type": "display_data",
          "data": {
            "image/png": "[encoded data removed]",
            "text/plain": [
              "<Figure size 432x288 with 1 Axes>"
            ]
          },
          "metadata": {
            "tags": [],
            "needs_background": "light"
          }
        }
      ]
    },
    {
      "cell_type": "code",
      "metadata": {
        "id": "yKEjNmk2lMl3",
        "colab_type": "code",
        "colab": {}
      },
      "source": [
        ""
      ],
      "execution_count": null,
      "outputs": []
    }
  ]
}