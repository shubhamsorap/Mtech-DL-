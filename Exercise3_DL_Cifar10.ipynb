{
  "nbformat": 4,
  "nbformat_minor": 0,
  "metadata": {
    "colab": {
      "name": "Exercise3_DL_Cifar10.ipynb",
      "provenance": [],
      "collapsed_sections": [],
      "authorship_tag": "ABX9TyPRwxwr+X0cum8rH8R5thaJ",
      "include_colab_link": true
    },
    "kernelspec": {
      "name": "python3",
      "display_name": "Python 3"
    }
  },
  "cells": [
    {
      "cell_type": "markdown",
      "metadata": {
        "id": "view-in-github",
        "colab_type": "text"
      },
      "source": [
        "<a href=\"https://colab.research.google.com/github/shubhamsorap/Mtech-DL-/blob/master/Exercise3_DL_Cifar10.ipynb\" target=\"_parent\"><img src=\"https://colab.research.google.com/assets/colab-badge.svg\" alt=\"Open In Colab\"/></a>"
      ]
    },
    {
      "cell_type": "code",
      "metadata": {
        "id": "DPV2qA_OKi0Z",
        "colab_type": "code",
        "colab": {}
      },
      "source": [
        "import pandas as pd\n",
        "import numpy as np"
      ],
      "execution_count": 1,
      "outputs": []
    },
    {
      "cell_type": "code",
      "metadata": {
        "id": "LfjzfLLdK_T8",
        "colab_type": "code",
        "colab": {
          "base_uri": "https://localhost:8080/",
          "height": 105
        },
        "outputId": "b117de0c-e5f7-4fc8-8354-60674ff64879"
      },
      "source": [
        "from keras import models\n",
        "from keras.layers import Dense\n",
        "from keras.utils import to_categorical\n",
        "from keras.datasets import cifar10\n",
        "(X_train, y_train),(X_test, y_test) = cifar10.load_data()\n",
        "X_train = X_train.reshape((X_train.shape[0],32*32*3))\n",
        "X_test = X_test.reshape((X_test.shape[0],32*32*3))\n",
        "print(X_train.shape)\n",
        "print(X_test.shape)\n",
        "#normalise\n",
        "X_train = X_train.astype('float32')/255\n",
        "X_test = X_test.astype('float32')/255\n",
        "\n",
        "#categorical\n",
        "\n",
        "y_test = to_categorical(y_test,10)\n",
        "y_train = to_categorical(y_train,10)"
      ],
      "execution_count": 2,
      "outputs": [
        {
          "output_type": "stream",
          "text": [
            "Using TensorFlow backend.\n"
          ],
          "name": "stderr"
        },
        {
          "output_type": "stream",
          "text": [
            "Downloading data from https://www.cs.toronto.edu/~kriz/cifar-10-python.tar.gz\n",
            "170500096/170498071 [==============================] - 14s 0us/step\n",
            "(50000, 3072)\n",
            "(10000, 3072)\n"
          ],
          "name": "stdout"
        }
      ]
    },
    {
      "cell_type": "markdown",
      "metadata": {
        "id": "q4lyR4cAR-Sh",
        "colab_type": "text"
      },
      "source": [
        "On Training Dataset"
      ]
    },
    {
      "cell_type": "code",
      "metadata": {
        "id": "2KAvCYsHLKfu",
        "colab_type": "code",
        "colab": {
          "base_uri": "https://localhost:8080/",
          "height": 404
        },
        "outputId": "cfd0c304-1dca-46ff-a5a2-cbf9c5a27b52"
      },
      "source": [
        "from keras.models import Sequential\n",
        "from keras.layers import Dense\n",
        "\n",
        "model_test2 = Sequential()\n",
        "model_test2.add(Dense(units=10, activation='sigmoid', input_dim=3072))\n",
        "\n",
        "#model_test2.add(Dense(units=1, activation='sigmoid'))\n",
        "model_test2.compile(loss='binary_crossentropy', optimizer='sgd', metrics=['accuracy'])\n",
        "model_test2.fit(X_train,y_train,epochs=10,validation_split=0.2)"
      ],
      "execution_count": 3,
      "outputs": [
        {
          "output_type": "stream",
          "text": [
            "Train on 40000 samples, validate on 10000 samples\n",
            "Epoch 1/10\n",
            "40000/40000 [==============================] - 3s 68us/step - loss: 0.3175 - accuracy: 0.8994 - val_loss: 0.3060 - val_accuracy: 0.8997\n",
            "Epoch 2/10\n",
            "40000/40000 [==============================] - 2s 60us/step - loss: 0.3007 - accuracy: 0.8997 - val_loss: 0.2986 - val_accuracy: 0.8994\n",
            "Epoch 3/10\n",
            "40000/40000 [==============================] - 2s 60us/step - loss: 0.2952 - accuracy: 0.8996 - val_loss: 0.2952 - val_accuracy: 0.8992\n",
            "Epoch 4/10\n",
            "40000/40000 [==============================] - 2s 60us/step - loss: 0.2921 - accuracy: 0.8997 - val_loss: 0.2926 - val_accuracy: 0.8997\n",
            "Epoch 5/10\n",
            "40000/40000 [==============================] - 2s 60us/step - loss: 0.2899 - accuracy: 0.8998 - val_loss: 0.2909 - val_accuracy: 0.8996\n",
            "Epoch 6/10\n",
            "40000/40000 [==============================] - 2s 60us/step - loss: 0.2883 - accuracy: 0.9000 - val_loss: 0.2893 - val_accuracy: 0.9000\n",
            "Epoch 7/10\n",
            "40000/40000 [==============================] - 2s 59us/step - loss: 0.2869 - accuracy: 0.9000 - val_loss: 0.2883 - val_accuracy: 0.9001\n",
            "Epoch 8/10\n",
            "40000/40000 [==============================] - 2s 60us/step - loss: 0.2858 - accuracy: 0.9002 - val_loss: 0.2880 - val_accuracy: 0.9001\n",
            "Epoch 9/10\n",
            "40000/40000 [==============================] - 2s 61us/step - loss: 0.2848 - accuracy: 0.9002 - val_loss: 0.2874 - val_accuracy: 0.9001\n",
            "Epoch 10/10\n",
            "40000/40000 [==============================] - 2s 59us/step - loss: 0.2839 - accuracy: 0.9005 - val_loss: 0.2865 - val_accuracy: 0.9001\n"
          ],
          "name": "stdout"
        },
        {
          "output_type": "execute_result",
          "data": {
            "text/plain": [
              "<keras.callbacks.callbacks.History at 0x7f5406a88240>"
            ]
          },
          "metadata": {
            "tags": []
          },
          "execution_count": 3
        }
      ]
    },
    {
      "cell_type": "markdown",
      "metadata": {
        "id": "bll2BT7TO9Hf",
        "colab_type": "text"
      },
      "source": [
        "# using tf"
      ]
    },
    {
      "cell_type": "code",
      "metadata": {
        "id": "H5P4YgI4ODuo",
        "colab_type": "code",
        "colab": {
          "base_uri": "https://localhost:8080/",
          "height": 87
        },
        "outputId": "1b29b7f6-43cb-4af7-f8f6-916f0ccfc62d"
      },
      "source": [
        "from keras.datasets import cifar10\n",
        "(X_train,y_train),(X_test,y_test)=cifar10.load_data()\n",
        "print(X_train.shape)\n",
        "print(y_train.shape)\n",
        "print(X_test.shape)\n",
        "print(y_test.shape)\n",
        "\n",
        "# Normalize pixel values to be between 0 and 1\n",
        "X_train,X_test=X_train/255.0,X_test/255.0"
      ],
      "execution_count": 11,
      "outputs": [
        {
          "output_type": "stream",
          "text": [
            "(50000, 32, 32, 3)\n",
            "(50000, 1)\n",
            "(10000, 32, 32, 3)\n",
            "(10000, 1)\n"
          ],
          "name": "stdout"
        }
      ]
    },
    {
      "cell_type": "code",
      "metadata": {
        "id": "pbKnxDGRPJ9B",
        "colab_type": "code",
        "colab": {}
      },
      "source": [
        "model=tf.keras.models.Sequential([\n",
        "tf.keras.layers.Conv2D(32,(3,3),activation='relu',input_shape=(32,32,3)),\n",
        "tf.keras.layers.MaxPooling2D((2, 2)),\n",
        "tf.keras.layers.Conv2D(64,(3,3),activation='relu'),\n",
        "tf.keras.layers.MaxPooling2D((2, 2)),\n",
        "tf.keras.layers.Conv2D(64,(3,3),activation='relu'),\n",
        "tf.keras.layers.Flatten(),\n",
        "tf.keras.layers.Dense(128,activation='relu'),\n",
        "tf.keras.layers.Dense(10)\n",
        "])"
      ],
      "execution_count": 15,
      "outputs": []
    },
    {
      "cell_type": "code",
      "metadata": {
        "id": "MmLu_f3tORVd",
        "colab_type": "code",
        "colab": {
          "base_uri": "https://localhost:8080/",
          "height": 439
        },
        "outputId": "c656117b-e0a9-4a92-9608-10c4f6c68d71"
      },
      "source": [
        "model.summary()"
      ],
      "execution_count": 16,
      "outputs": [
        {
          "output_type": "stream",
          "text": [
            "Model: \"sequential_2\"\n",
            "_________________________________________________________________\n",
            "Layer (type)                 Output Shape              Param #   \n",
            "=================================================================\n",
            "conv2d_6 (Conv2D)            (None, 30, 30, 32)        896       \n",
            "_________________________________________________________________\n",
            "max_pooling2d_6 (MaxPooling2 (None, 15, 15, 32)        0         \n",
            "_________________________________________________________________\n",
            "conv2d_7 (Conv2D)            (None, 13, 13, 64)        18496     \n",
            "_________________________________________________________________\n",
            "max_pooling2d_7 (MaxPooling2 (None, 6, 6, 64)          0         \n",
            "_________________________________________________________________\n",
            "conv2d_8 (Conv2D)            (None, 4, 4, 64)          36928     \n",
            "_________________________________________________________________\n",
            "flatten_2 (Flatten)          (None, 1024)              0         \n",
            "_________________________________________________________________\n",
            "dense_4 (Dense)              (None, 128)               131200    \n",
            "_________________________________________________________________\n",
            "dense_5 (Dense)              (None, 10)                1290      \n",
            "=================================================================\n",
            "Total params: 188,810\n",
            "Trainable params: 188,810\n",
            "Non-trainable params: 0\n",
            "_________________________________________________________________\n"
          ],
          "name": "stdout"
        }
      ]
    },
    {
      "cell_type": "code",
      "metadata": {
        "id": "yJ8dQXipOa0N",
        "colab_type": "code",
        "colab": {
          "base_uri": "https://localhost:8080/",
          "height": 369
        },
        "outputId": "369cbd8e-a110-457b-8621-4d001654d108"
      },
      "source": [
        "model.compile(optimizer='adam',loss=tf.keras.losses.SparseCategoricalCrossentropy(from_logits=True),metrics=['accuracy'])\n",
        "history=model.fit(X_train,y_train,epochs=10,validation_data=(X_test,y_test))"
      ],
      "execution_count": 17,
      "outputs": [
        {
          "output_type": "stream",
          "text": [
            "Epoch 1/10\n",
            "1563/1563 [==============================] - 64s 41ms/step - loss: 1.4822 - accuracy: 0.4604 - val_loss: 1.3114 - val_accuracy: 0.5239\n",
            "Epoch 2/10\n",
            "1563/1563 [==============================] - 64s 41ms/step - loss: 1.1357 - accuracy: 0.5993 - val_loss: 1.0480 - val_accuracy: 0.6286\n",
            "Epoch 3/10\n",
            "1563/1563 [==============================] - 64s 41ms/step - loss: 0.9910 - accuracy: 0.6508 - val_loss: 0.9500 - val_accuracy: 0.6701\n",
            "Epoch 4/10\n",
            "1563/1563 [==============================] - 64s 41ms/step - loss: 0.8921 - accuracy: 0.6857 - val_loss: 0.9321 - val_accuracy: 0.6736\n",
            "Epoch 5/10\n",
            "1563/1563 [==============================] - 64s 41ms/step - loss: 0.8169 - accuracy: 0.7143 - val_loss: 0.9120 - val_accuracy: 0.6807\n",
            "Epoch 6/10\n",
            "1563/1563 [==============================] - 64s 41ms/step - loss: 0.7508 - accuracy: 0.7369 - val_loss: 0.8737 - val_accuracy: 0.6994\n",
            "Epoch 7/10\n",
            "1563/1563 [==============================] - 64s 41ms/step - loss: 0.6930 - accuracy: 0.7568 - val_loss: 0.8706 - val_accuracy: 0.7011\n",
            "Epoch 8/10\n",
            "1563/1563 [==============================] - 64s 41ms/step - loss: 0.6436 - accuracy: 0.7734 - val_loss: 0.8722 - val_accuracy: 0.7047\n",
            "Epoch 9/10\n",
            "1563/1563 [==============================] - 64s 41ms/step - loss: 0.6020 - accuracy: 0.7876 - val_loss: 0.8762 - val_accuracy: 0.7095\n",
            "Epoch 10/10\n",
            "1563/1563 [==============================] - 67s 43ms/step - loss: 0.5559 - accuracy: 0.8036 - val_loss: 0.9024 - val_accuracy: 0.7114\n"
          ],
          "name": "stdout"
        }
      ]
    },
    {
      "cell_type": "code",
      "metadata": {
        "id": "1R_kFNBBOoss",
        "colab_type": "code",
        "colab": {
          "base_uri": "https://localhost:8080/",
          "height": 301
        },
        "outputId": "bd3ad31c-2bfc-4547-d0ce-5f76afa0b3b7"
      },
      "source": [
        "#accuracy plot\n",
        "import matplotlib.pyplot as plt\n",
        "\n",
        "plt.plot(history.history['accuracy'], label='accuracy')\n",
        "plt.plot(history.history['val_accuracy'], label = 'val_accuracy')\n",
        "plt.xlabel('Epoch')\n",
        "plt.ylabel('Accuracy')\n",
        "plt.ylim([0.5, 1])\n",
        "plt.legend(loc='lower right')\n",
        "\n",
        "test_loss, test_acc = model.evaluate(X_test,y_test, verbose=2)"
      ],
      "execution_count": 19,
      "outputs": [
        {
          "output_type": "stream",
          "text": [
            "313/313 - 3s - loss: 0.9024 - accuracy: 0.7114\n"
          ],
          "name": "stdout"
        },
        {
          "output_type": "display_data",
          "data": {
            "image/png": "[encoded data removed]",
            "text/plain": [
              "<Figure size 432x288 with 1 Axes>"
            ]
          },
          "metadata": {
            "tags": [],
            "needs_background": "light"
          }
        }
      ]
    },
    {
      "cell_type": "code",
      "metadata": {
        "id": "NgTeyjkwSO26",
        "colab_type": "code",
        "colab": {}
      },
      "source": [
        ""
      ],
      "execution_count": null,
      "outputs": []
    }
  ]
}